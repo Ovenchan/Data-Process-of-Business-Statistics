{
 "cells": [
  {
   "cell_type": "markdown",
   "id": "f2d8731b",
   "metadata": {},
   "source": [
    "# Introduction"
   ]
  },
  {
   "cell_type": "markdown",
   "id": "f9204a11",
   "metadata": {},
   "source": [
    "This data set includes customers who have paid off their loans, who have been past due and put into collection without paying back their loan and interests, and who have paid off only after they were put in collection. The financial product is a bullet loan that customers should pay off all of their loan debt in just one time by the end of the term, instead of an installment schedule. Of course, they could pay off earlier than their pay schedule."
   ]
  },
  {
   "cell_type": "markdown",
   "id": "d6abcc4c",
   "metadata": {},
   "source": [
    "This dataset is about past loans. The Loan payments data.csv data set includes details of 346 customers whose loan are already paid off or defaulted. It includes following fields:"
   ]
  },
  {
   "cell_type": "markdown",
   "id": "af527f1f",
   "metadata": {},
   "source": [
    "|  Field   | Description  |\n",
    "|  ----  | ----  |\n",
    "| Loan_id | A unique loan number assigned to each applicant |\n",
    "| Loan_status  | Whether a loan is paid off or in collection |\n",
    "| Principal   | The basic principal loan amount at origination |\n",
    "| Terms | Origination terms which can be weekly (7 days), biweekly, and monthly payoff schedule |\n",
    "| Effective_date  | When the loan got originated and took effects |\n",
    "| Due_date  | Since it’s one-time payoff schedule, each loan has one single due date |\n",
    "| Paid_off_time  | The actual time a customer pays off the loan |\n",
    "| Past_due_days  | How many days a loan has been past due |\n",
    "| Age  | Age of applicant |\n",
    "| Education  | Education of applicant |\n",
    "| Gender  | The gender of applicant |"
   ]
  },
  {
   "cell_type": "markdown",
   "id": "ea869c29",
   "metadata": {},
   "source": [
    "# Data Description"
   ]
  },
  {
   "cell_type": "markdown",
   "id": "56a187dc",
   "metadata": {},
   "source": [
    "## import library"
   ]
  },
  {
   "cell_type": "code",
   "execution_count": 1,
   "id": "8b37ee57",
   "metadata": {},
   "outputs": [],
   "source": [
    "import numpy as np \n",
    "import pandas as pd\n",
    "from scipy import stats\n",
    "import matplotlib.pyplot as plt\n",
    "\n",
    "import seaborn as sns\n",
    "plt.style.use('seaborn-pastel') # change the color of plot\n",
    "# from plotly.offline import init_notebook_mode,iplot\n",
    "# init_notebook_mode(connected=True)\n",
    "# import plotly.graph_objs as go\n",
    "import warnings\n",
    "warnings.filterwarnings('ignore')"
   ]
  },
  {
   "cell_type": "markdown",
   "id": "7ecc1a95",
   "metadata": {},
   "source": [
    "## data set overview"
   ]
  },
  {
   "cell_type": "code",
   "execution_count": 2,
   "id": "fdf5412a",
   "metadata": {},
   "outputs": [
    {
     "data": {
      "text/plain": [
       "(500, 11)"
      ]
     },
     "execution_count": 2,
     "metadata": {},
     "output_type": "execute_result"
    }
   ],
   "source": [
    "# read csv file\n",
    "data = pd.read_csv('Loan payments data.csv')\n",
    "data.shape\n",
    "# the data set has 500 samples and 10 features "
   ]
  },
  {
   "cell_type": "code",
   "execution_count": 3,
   "id": "686f30fd",
   "metadata": {},
   "outputs": [
    {
     "data": {
      "text/html": [
       "<div>\n",
       "<style scoped>\n",
       "    .dataframe tbody tr th:only-of-type {\n",
       "        vertical-align: middle;\n",
       "    }\n",
       "\n",
       "    .dataframe tbody tr th {\n",
       "        vertical-align: top;\n",
       "    }\n",
       "\n",
       "    .dataframe thead th {\n",
       "        text-align: right;\n",
       "    }\n",
       "</style>\n",
       "<table border=\"1\" class=\"dataframe\">\n",
       "  <thead>\n",
       "    <tr style=\"text-align: right;\">\n",
       "      <th></th>\n",
       "      <th>Loan_ID</th>\n",
       "      <th>Loan_status</th>\n",
       "      <th>Principal</th>\n",
       "      <th>Terms</th>\n",
       "      <th>Effective_date</th>\n",
       "      <th>Due_date</th>\n",
       "      <th>Paid_off_time</th>\n",
       "      <th>Past_due_days</th>\n",
       "      <th>Age</th>\n",
       "      <th>Education</th>\n",
       "      <th>Gender</th>\n",
       "    </tr>\n",
       "  </thead>\n",
       "  <tbody>\n",
       "    <tr>\n",
       "      <th>0</th>\n",
       "      <td>xqd20166231</td>\n",
       "      <td>PAIDOFF</td>\n",
       "      <td>1000</td>\n",
       "      <td>30</td>\n",
       "      <td>9/8/2016</td>\n",
       "      <td>10/7/2016</td>\n",
       "      <td>9/14/2016 19:31</td>\n",
       "      <td>0</td>\n",
       "      <td>45</td>\n",
       "      <td>High School or Below</td>\n",
       "      <td>male</td>\n",
       "    </tr>\n",
       "    <tr>\n",
       "      <th>1</th>\n",
       "      <td>xqd20168902</td>\n",
       "      <td>PAIDOFF</td>\n",
       "      <td>1000</td>\n",
       "      <td>30</td>\n",
       "      <td>9/8/2016</td>\n",
       "      <td>10/7/2016</td>\n",
       "      <td>10/7/2016 9:00</td>\n",
       "      <td>0</td>\n",
       "      <td>50</td>\n",
       "      <td>Bechalor</td>\n",
       "      <td>female</td>\n",
       "    </tr>\n",
       "    <tr>\n",
       "      <th>2</th>\n",
       "      <td>xqd20160003</td>\n",
       "      <td>PAIDOFF</td>\n",
       "      <td>1000</td>\n",
       "      <td>30</td>\n",
       "      <td>9/8/2016</td>\n",
       "      <td>10/7/2016</td>\n",
       "      <td>9/25/2016 16:58</td>\n",
       "      <td>0</td>\n",
       "      <td>33</td>\n",
       "      <td>Bechalor</td>\n",
       "      <td>female</td>\n",
       "    </tr>\n",
       "    <tr>\n",
       "      <th>3</th>\n",
       "      <td>xqd20160004</td>\n",
       "      <td>PAIDOFF</td>\n",
       "      <td>1000</td>\n",
       "      <td>15</td>\n",
       "      <td>9/8/2016</td>\n",
       "      <td>9/22/2016</td>\n",
       "      <td>9/22/2016 20:00</td>\n",
       "      <td>0</td>\n",
       "      <td>27</td>\n",
       "      <td>college</td>\n",
       "      <td>male</td>\n",
       "    </tr>\n",
       "    <tr>\n",
       "      <th>4</th>\n",
       "      <td>xqd20160005</td>\n",
       "      <td>PAIDOFF</td>\n",
       "      <td>1000</td>\n",
       "      <td>30</td>\n",
       "      <td>9/9/2016</td>\n",
       "      <td>10/8/2016</td>\n",
       "      <td>9/23/2016 21:36</td>\n",
       "      <td>0</td>\n",
       "      <td>28</td>\n",
       "      <td>college</td>\n",
       "      <td>female</td>\n",
       "    </tr>\n",
       "  </tbody>\n",
       "</table>\n",
       "</div>"
      ],
      "text/plain": [
       "       Loan_ID Loan_status  Principal  Terms Effective_date   Due_date  \\\n",
       "0  xqd20166231     PAIDOFF       1000     30       9/8/2016  10/7/2016   \n",
       "1  xqd20168902     PAIDOFF       1000     30       9/8/2016  10/7/2016   \n",
       "2  xqd20160003     PAIDOFF       1000     30       9/8/2016  10/7/2016   \n",
       "3  xqd20160004     PAIDOFF       1000     15       9/8/2016  9/22/2016   \n",
       "4  xqd20160005     PAIDOFF       1000     30       9/9/2016  10/8/2016   \n",
       "\n",
       "     Paid_off_time  Past_due_days  Age             Education  Gender  \n",
       "0  9/14/2016 19:31              0   45  High School or Below    male  \n",
       "1   10/7/2016 9:00              0   50              Bechalor  female  \n",
       "2  9/25/2016 16:58              0   33              Bechalor  female  \n",
       "3  9/22/2016 20:00              0   27               college    male  \n",
       "4  9/23/2016 21:36              0   28               college  female  "
      ]
     },
     "execution_count": 3,
     "metadata": {},
     "output_type": "execute_result"
    }
   ],
   "source": [
    "# first five rows in dataset\n",
    "data.head()"
   ]
  },
  {
   "cell_type": "code",
   "execution_count": 4,
   "id": "df518599",
   "metadata": {},
   "outputs": [
    {
     "name": "stdout",
     "output_type": "stream",
     "text": [
      "<class 'pandas.core.frame.DataFrame'>\n",
      "RangeIndex: 500 entries, 0 to 499\n",
      "Data columns (total 11 columns):\n",
      " #   Column          Non-Null Count  Dtype \n",
      "---  ------          --------------  ----- \n",
      " 0   Loan_ID         500 non-null    object\n",
      " 1   Loan_status     500 non-null    object\n",
      " 2   Principal       500 non-null    int64 \n",
      " 3   Terms           500 non-null    int64 \n",
      " 4   Effective_date  500 non-null    object\n",
      " 5   Due_date        500 non-null    object\n",
      " 6   Paid_off_time   400 non-null    object\n",
      " 7   Past_due_days   500 non-null    int64 \n",
      " 8   Age             500 non-null    int64 \n",
      " 9   Education       500 non-null    object\n",
      " 10  Gender          500 non-null    object\n",
      "dtypes: int64(4), object(7)\n",
      "memory usage: 43.1+ KB\n"
     ]
    }
   ],
   "source": [
    "# tells the data type of each column\n",
    "data.info()\n",
    "# 'Principal' 'Terms' 'Past_due_days' 'Age' are qualitative data"
   ]
  },
  {
   "cell_type": "code",
   "execution_count": 5,
   "id": "b696743c",
   "metadata": {},
   "outputs": [
    {
     "data": {
      "text/plain": [
       "Loan_ID             0\n",
       "Loan_status         0\n",
       "Principal           0\n",
       "Terms               0\n",
       "Effective_date      0\n",
       "Due_date            0\n",
       "Paid_off_time     100\n",
       "Past_due_days       0\n",
       "Age                 0\n",
       "Education           0\n",
       "Gender              0\n",
       "dtype: int64"
      ]
     },
     "execution_count": 5,
     "metadata": {},
     "output_type": "execute_result"
    }
   ],
   "source": [
    "# check the empty values in data sets\n",
    "data.isnull().sum()\n",
    "# Paid_off_time and Past_due_days are not needed for our analysis.\n",
    "# No null values in important columns. No processing is needed for null values. "
   ]
  },
  {
   "cell_type": "code",
   "execution_count": 6,
   "id": "cc096917",
   "metadata": {},
   "outputs": [
    {
     "data": {
      "text/plain": [
       "dtype('<M8[ns]')"
      ]
     },
     "execution_count": 6,
     "metadata": {},
     "output_type": "execute_result"
    }
   ],
   "source": [
    "# Convert 'due_date', 'effective_date' to date time object\n",
    "data['Due_date'] = pd.to_datetime(data['Due_date'])\n",
    "data['Due_date'].dtype"
   ]
  },
  {
   "cell_type": "code",
   "execution_count": 7,
   "id": "e5904e1c",
   "metadata": {},
   "outputs": [
    {
     "data": {
      "text/plain": [
       "dtype('<M8[ns]')"
      ]
     },
     "execution_count": 7,
     "metadata": {},
     "output_type": "execute_result"
    }
   ],
   "source": [
    "data['Effective_date'] = pd.to_datetime(data['Effective_date'])\n",
    "data['Effective_date'].dtype"
   ]
  },
  {
   "cell_type": "markdown",
   "id": "0c4e27da",
   "metadata": {},
   "source": [
    "# Numerical Measures"
   ]
  },
  {
   "cell_type": "code",
   "execution_count": 8,
   "id": "ead9636f",
   "metadata": {},
   "outputs": [
    {
     "data": {
      "text/html": [
       "<div>\n",
       "<style scoped>\n",
       "    .dataframe tbody tr th:only-of-type {\n",
       "        vertical-align: middle;\n",
       "    }\n",
       "\n",
       "    .dataframe tbody tr th {\n",
       "        vertical-align: top;\n",
       "    }\n",
       "\n",
       "    .dataframe thead th {\n",
       "        text-align: right;\n",
       "    }\n",
       "</style>\n",
       "<table border=\"1\" class=\"dataframe\">\n",
       "  <thead>\n",
       "    <tr style=\"text-align: right;\">\n",
       "      <th></th>\n",
       "      <th>Principal</th>\n",
       "      <th>Terms</th>\n",
       "      <th>Past_due_days</th>\n",
       "      <th>Age</th>\n",
       "    </tr>\n",
       "  </thead>\n",
       "  <tbody>\n",
       "    <tr>\n",
       "      <th>count</th>\n",
       "      <td>500.000000</td>\n",
       "      <td>500.000000</td>\n",
       "      <td>500.000000</td>\n",
       "      <td>500.000000</td>\n",
       "    </tr>\n",
       "    <tr>\n",
       "      <th>mean</th>\n",
       "      <td>943.200000</td>\n",
       "      <td>22.824000</td>\n",
       "      <td>14.404000</td>\n",
       "      <td>31.116000</td>\n",
       "    </tr>\n",
       "    <tr>\n",
       "      <th>std</th>\n",
       "      <td>115.240274</td>\n",
       "      <td>8.000064</td>\n",
       "      <td>25.614312</td>\n",
       "      <td>6.084784</td>\n",
       "    </tr>\n",
       "    <tr>\n",
       "      <th>min</th>\n",
       "      <td>300.000000</td>\n",
       "      <td>7.000000</td>\n",
       "      <td>0.000000</td>\n",
       "      <td>18.000000</td>\n",
       "    </tr>\n",
       "    <tr>\n",
       "      <th>25%</th>\n",
       "      <td>1000.000000</td>\n",
       "      <td>15.000000</td>\n",
       "      <td>0.000000</td>\n",
       "      <td>27.000000</td>\n",
       "    </tr>\n",
       "    <tr>\n",
       "      <th>50%</th>\n",
       "      <td>1000.000000</td>\n",
       "      <td>30.000000</td>\n",
       "      <td>0.000000</td>\n",
       "      <td>30.000000</td>\n",
       "    </tr>\n",
       "    <tr>\n",
       "      <th>75%</th>\n",
       "      <td>1000.000000</td>\n",
       "      <td>30.000000</td>\n",
       "      <td>12.000000</td>\n",
       "      <td>35.000000</td>\n",
       "    </tr>\n",
       "    <tr>\n",
       "      <th>max</th>\n",
       "      <td>1000.000000</td>\n",
       "      <td>30.000000</td>\n",
       "      <td>76.000000</td>\n",
       "      <td>51.000000</td>\n",
       "    </tr>\n",
       "  </tbody>\n",
       "</table>\n",
       "</div>"
      ],
      "text/plain": [
       "         Principal       Terms  Past_due_days         Age\n",
       "count   500.000000  500.000000     500.000000  500.000000\n",
       "mean    943.200000   22.824000      14.404000   31.116000\n",
       "std     115.240274    8.000064      25.614312    6.084784\n",
       "min     300.000000    7.000000       0.000000   18.000000\n",
       "25%    1000.000000   15.000000       0.000000   27.000000\n",
       "50%    1000.000000   30.000000       0.000000   30.000000\n",
       "75%    1000.000000   30.000000      12.000000   35.000000\n",
       "max    1000.000000   30.000000      76.000000   51.000000"
      ]
     },
     "execution_count": 8,
     "metadata": {},
     "output_type": "execute_result"
    }
   ],
   "source": [
    "# describe() gives the count, mean, std, min, max, important quantiles of the numeric columns\n",
    "data.describe()"
   ]
  },
  {
   "cell_type": "code",
   "execution_count": 9,
   "id": "ff94f954",
   "metadata": {},
   "outputs": [
    {
     "name": "stdout",
     "output_type": "stream",
     "text": [
      "The mean of the Past_due_days is 14.404.\n",
      "The median of the Past_due_days is 0.0.\n",
      "The geometric mean of the Age is 31.\n",
      "The calculated trimmed mean of the Age is 30.66.\n",
      "The weighted mean of the first 5 rows of the Principal is 977.78.\n"
     ]
    }
   ],
   "source": [
    "# measure of location\n",
    "# mean\n",
    "mean_days = data['Past_due_days'].mean()\n",
    "print('The mean of the Past_due_days is '+str(mean_days)+'.')\n",
    "\n",
    "# median\n",
    "median_days = data['Past_due_days'].median()\n",
    "print('The median of the Past_due_days is '+str(median_days)+'.')\n",
    "# calculation of the mode is similar with mean and median\n",
    "\n",
    "# geometric mean\n",
    "gmean_age = stats.gmean(data['Age'])\n",
    "# round to 0 decimal places\n",
    "print(f'The geometric mean of the Age is {gmean_age:.0f}.')\n",
    "\n",
    "# trimmed mean with cutting off both 10% tails of the distribution\n",
    "tmean_age = stats.trim_mean(data['Age'],0.1)\n",
    "print(f'The calculated trimmed mean of the Age is {tmean_age:.2f}.')\n",
    "\n",
    "# weighted mean\n",
    "weights = [1, 1, 2, 2, 3]\n",
    "wmean_principal = np.average(data['Principal'][100:105], weights = weights)\n",
    "print(f'The weighted mean of the first 5 rows of the Principal is {wmean_principal:.2f}.')"
   ]
  },
  {
   "cell_type": "code",
   "execution_count": 10,
   "id": "0e187f6e",
   "metadata": {},
   "outputs": [
    {
     "name": "stdout",
     "output_type": "stream",
     "text": [
      "The 60th percentile of the age is 32.\n",
      "Q3 of the column \"age\" is 35.\n"
     ]
    }
   ],
   "source": [
    "# 60th percentile\n",
    "per_age = data['Age'].quantile(q = 0.6)\n",
    "print(f'The 60th percentile of the age is {per_age:.0f}.')\n",
    "\n",
    "# calculation of Q3\n",
    "q3_age = data['Age'].quantile(q = 0.75)\n",
    "print(f'Q3 of the column \"age\" is {q3_age:.0f}.')"
   ]
  },
  {
   "cell_type": "code",
   "execution_count": 11,
   "id": "0a58f525",
   "metadata": {},
   "outputs": [
    {
     "name": "stdout",
     "output_type": "stream",
     "text": [
      "The variance and the standard deviation of the Past_due_days is 656.09 and 25.61 respectively.\n",
      "The coefficient of variation of the Past_due_days is 1.78.\n"
     ]
    }
   ],
   "source": [
    "# measure of variability\n",
    "# variance and standard deviation\n",
    "var_days = data['Past_due_days'].var()\n",
    "std_days = data['Past_due_days'].std()\n",
    "print(f'The variance and the standard deviation of the Past_due_days is {var_days:.2f} and {std_days:.2f} respectively.')\n",
    "\n",
    "#coefficient of variation\n",
    "cv_days = stats.variation(data['Past_due_days'])\n",
    "print(f'The coefficient of variation of the Past_due_days is {cv_days:.2f}.')\n"
   ]
  },
  {
   "cell_type": "code",
   "execution_count": 12,
   "id": "4179f082",
   "metadata": {},
   "outputs": [
    {
     "name": "stdout",
     "output_type": "stream",
     "text": [
      "The skewness of the Past_due_days is 1.46.\n",
      "\n",
      "5      xqd20160706\n",
      "10     xqd20160011\n",
      "68     xqd20160069\n",
      "147    xqd20160148\n",
      "152    xqd20160153\n",
      "181    xqd20160182\n",
      "208    xqd20160209\n",
      "253    xqd20160254\n",
      "429    xqd20160430\n",
      "Name: Loan_ID, dtype: object\n"
     ]
    }
   ],
   "source": [
    "# skewness\n",
    "skew_days = stats.skew(data['Past_due_days'])\n",
    "print(f'The skewness of the Past_due_days is {skew_days:.2f}.\\n')\n",
    "\n",
    "# z-score\n",
    "zscore_principal = stats.zscore(data['Principal'])\n",
    "# print the ID for the outliers of the principal\n",
    "print(data['Loan_ID'][(zscore_principal > 3) | (zscore_principal < -3)]) "
   ]
  },
  {
   "cell_type": "code",
   "execution_count": 13,
   "id": "9e1004e8",
   "metadata": {},
   "outputs": [
    {
     "name": "stdout",
     "output_type": "stream",
     "text": [
      "The covariance matrix is: \n",
      "\n",
      "                 Principal  Past_due_days        Age\n",
      "Principal      7708.291457    -240.256281 -92.575377\n",
      "Past_due_days  -240.256281     863.236080  -9.753518\n",
      "Age             -92.575377      -9.753518  38.004397\n",
      "\n",
      "The correlation matrix is: \n",
      "\n",
      "               Principal  Past_due_days       Age\n",
      "Principal       1.000000      -0.093139 -0.171041\n",
      "Past_due_days  -0.093139       1.000000 -0.053849\n",
      "Age            -0.171041      -0.053849  1.000000\n"
     ]
    }
   ],
   "source": [
    "# covariance and correlation\n",
    "print('The covariance matrix is: \\n')\n",
    "print(data.iloc[300:, [2, 7, 8]].cov())\n",
    "print('\\nThe correlation matrix is: \\n')\n",
    "print(data.iloc[300:, [2, 7, 8]].corr())"
   ]
  },
  {
   "cell_type": "code",
   "execution_count": 14,
   "id": "dc5b2124",
   "metadata": {},
   "outputs": [
    {
     "name": "stdout",
     "output_type": "stream",
     "text": [
      "The p-value for the correlation coefficient between the Principal and the Age is: 0.015.\n"
     ]
    }
   ],
   "source": [
    "p_value = stats.pearsonr(data.iloc[300:, 2], data.iloc[300:, 8])[1]\n",
    "print(f'The p-value for the correlation coefficient between the Principal and the Age is: {p_value:.3f}.')"
   ]
  },
  {
   "cell_type": "markdown",
   "id": "f0716546",
   "metadata": {},
   "source": [
    "## Categorical Data Description"
   ]
  },
  {
   "cell_type": "code",
   "execution_count": 15,
   "id": "d79ba6a8",
   "metadata": {},
   "outputs": [
    {
     "data": {
      "text/plain": [
       "array(['PAIDOFF', 'COLLECTION', 'COLLECTION_PAIDOFF'], dtype=object)"
      ]
     },
     "execution_count": 15,
     "metadata": {},
     "output_type": "execute_result"
    }
   ],
   "source": [
    "# check the categories within the data sets\n",
    "data['Loan_status'].unique()"
   ]
  },
  {
   "cell_type": "code",
   "execution_count": 16,
   "id": "87ac06a9",
   "metadata": {},
   "outputs": [
    {
     "data": {
      "text/plain": [
       "array(['High School or Below', 'Bechalor', 'college', 'Master or Above'],\n",
       "      dtype=object)"
      ]
     },
     "execution_count": 16,
     "metadata": {},
     "output_type": "execute_result"
    }
   ],
   "source": [
    "data['Education'].unique()"
   ]
  },
  {
   "cell_type": "code",
   "execution_count": 17,
   "id": "ca5eba95",
   "metadata": {},
   "outputs": [
    {
     "data": {
      "text/plain": [
       "array(['male', 'female'], dtype=object)"
      ]
     },
     "execution_count": 17,
     "metadata": {},
     "output_type": "execute_result"
    }
   ],
   "source": [
    "data['Gender'].unique()"
   ]
  },
  {
   "cell_type": "code",
   "execution_count": 18,
   "id": "c52aad75",
   "metadata": {},
   "outputs": [
    {
     "name": "stdout",
     "output_type": "stream",
     "text": [
      "Pricipal State\n",
      "\n",
      "Data Principal value counts\n",
      "\n",
      "1000    377\n",
      "800     111\n",
      "300       6\n",
      "500       3\n",
      "900       2\n",
      "700       1\n",
      "Name: Principal, dtype: int64\n"
     ]
    }
   ],
   "source": [
    "# shows the frequency distribution of 'Pricipal State'\n",
    "print('Pricipal State\\n')\n",
    "print('Data Principal value counts\\n')\n",
    "print(data.Principal.value_counts()) "
   ]
  },
  {
   "cell_type": "code",
   "execution_count": 19,
   "id": "dc215b3b",
   "metadata": {},
   "outputs": [
    {
     "data": {
      "text/plain": [
       "Counter({'PAIDOFF': 300, 'COLLECTION': 100, 'COLLECTION_PAIDOFF': 100})"
      ]
     },
     "execution_count": 19,
     "metadata": {},
     "output_type": "execute_result"
    }
   ],
   "source": [
    "# another way to show the frequency distribution of other categorical data\n",
    "from collections import Counter\n",
    "Counter(data['Loan_status']) # 300 people have paid off the loan on time while 100 have gone into collection"
   ]
  },
  {
   "cell_type": "code",
   "execution_count": 20,
   "id": "d6d1e27a",
   "metadata": {},
   "outputs": [
    {
     "data": {
      "text/plain": [
       "Counter({'High School or Below': 209,\n",
       "         'Bechalor': 67,\n",
       "         'college': 220,\n",
       "         'Master or Above': 4})"
      ]
     },
     "execution_count": 20,
     "metadata": {},
     "output_type": "execute_result"
    }
   ],
   "source": [
    "Counter(data['Education']) \n",
    "# 209 people are High School or Below\n",
    "# 67 people completed Bechalor \n",
    "# 220 people completed college\n",
    "# 4 people completed Master or Above"
   ]
  },
  {
   "cell_type": "code",
   "execution_count": 21,
   "id": "a2db8f7a",
   "metadata": {},
   "outputs": [
    {
     "data": {
      "text/plain": [
       "Counter({'male': 423, 'female': 77})"
      ]
     },
     "execution_count": 21,
     "metadata": {},
     "output_type": "execute_result"
    }
   ],
   "source": [
    "Counter(data['Gender']) # In our data, there are 423 male & 77 females. "
   ]
  },
  {
   "cell_type": "code",
   "execution_count": 22,
   "id": "ad04a748",
   "metadata": {},
   "outputs": [
    {
     "data": {
      "image/png": "[encoded data removed]",
      "text/plain": [
       "<Figure size 432x288 with 1 Axes>"
      ]
     },
     "metadata": {
      "needs_background": "light"
     },
     "output_type": "display_data"
    }
   ],
   "source": [
    "#Visualization process of Loan_Status--bar chart\n",
    "sns.countplot(data['Loan_status'])\n",
    "plt.title('The frequency distribution of loan status')\n",
    "plt.show()"
   ]
  },
  {
   "cell_type": "code",
   "execution_count": 24,
   "id": "e196a40a",
   "metadata": {},
   "outputs": [
    {
     "data": {
      "image/png": "[encoded data removed]",
      "text/plain": [
       "<Figure size 432x288 with 1 Axes>"
      ]
     },
     "metadata": {},
     "output_type": "display_data"
    }
   ],
   "source": [
    "#Visualization process of Education--pie chart\n",
    "education_counts = data['Education'].value_counts()\n",
    "plt.pie(education_counts, labels = education_counts.index, \n",
    "        startangle = 90, autopct='%1.1f%%',\n",
    "        counterclock = True);\n",
    "plt.title('The distribution of the education of applicants')\n",
    "plt.axis('square')\n",
    "plt.show()"
   ]
  },
  {
   "cell_type": "markdown",
   "id": "96ff9a7e",
   "metadata": {},
   "source": [
    "## Quantitive Data Description"
   ]
  },
  {
   "cell_type": "code",
   "execution_count": 25,
   "id": "2d980ff1",
   "metadata": {
    "scrolled": false
   },
   "outputs": [
    {
     "data": {
      "image/png": "[encoded data removed]",
      "text/plain": [
       "<Figure size 720x720 with 6 Axes>"
      ]
     },
     "metadata": {
      "needs_background": "light"
     },
     "output_type": "display_data"
    }
   ],
   "source": [
    "data.hist(bins=10, figsize=(10,10),xrot=15)\n",
    "plt.title('Histogram of  numeric variables in the loan data set')\n",
    "plt.show()"
   ]
  },
  {
   "cell_type": "code",
   "execution_count": 26,
   "id": "3b7eed54",
   "metadata": {},
   "outputs": [
    {
     "data": {
      "image/png": "[encoded data removed]",
      "text/plain": [
       "<Figure size 360x360 with 1 Axes>"
      ]
     },
     "metadata": {
      "needs_background": "light"
     },
     "output_type": "display_data"
    }
   ],
   "source": [
    "# shows the frequency distribution of age\n",
    "sns.displot(data['Age'], kde=True)\n",
    "plt.title('The frequency distribution of age')\n",
    "plt.show()"
   ]
  },
  {
   "cell_type": "code",
   "execution_count": 28,
   "id": "40cd4619",
   "metadata": {},
   "outputs": [
    {
     "name": "stdout",
     "output_type": "stream",
     "text": [
      "Age Distribution\n",
      "\n",
      "Data Age_range value counts\n",
      "\n",
      "20s    263\n",
      "30s    193\n",
      "40s     36\n",
      "10s      7\n",
      "50s      1\n",
      "Name: Age_range, dtype: int64\n"
     ]
    }
   ],
   "source": [
    "# shows the frequency distribution of age after grouping\n",
    "data['Age_range'] = pd.cut(data['Age'],[10,20,30,40,50,60],labels=['10s','20s','30s','40s','50s'])\n",
    "print('Age Distribution\\n')\n",
    "print('Data Age_range value counts\\n')\n",
    "print(data.Age_range.value_counts()) "
   ]
  },
  {
   "cell_type": "code",
   "execution_count": 29,
   "id": "70ae61c4",
   "metadata": {},
   "outputs": [
    {
     "data": {
      "image/png": "[encoded data removed]",
      "text/plain": [
       "<Figure size 432x288 with 1 Axes>"
      ]
     },
     "metadata": {
      "needs_background": "light"
     },
     "output_type": "display_data"
    }
   ],
   "source": [
    "# shows the frequency distribution of age after grouping\n",
    "sns.countplot(data['Age_range'])\n",
    "plt.title('The frequency distribution of age after grouping')\n",
    "plt.show()"
   ]
  },
  {
   "cell_type": "markdown",
   "id": "04f32a10",
   "metadata": {},
   "source": [
    "## Two Variables Analysis"
   ]
  },
  {
   "cell_type": "code",
   "execution_count": 30,
   "id": "fbc75d52",
   "metadata": {},
   "outputs": [
    {
     "data": {
      "text/html": [
       "<div>\n",
       "<style scoped>\n",
       "    .dataframe tbody tr th:only-of-type {\n",
       "        vertical-align: middle;\n",
       "    }\n",
       "\n",
       "    .dataframe tbody tr th {\n",
       "        vertical-align: top;\n",
       "    }\n",
       "\n",
       "    .dataframe thead tr th {\n",
       "        text-align: left;\n",
       "    }\n",
       "\n",
       "    .dataframe thead tr:last-of-type th {\n",
       "        text-align: right;\n",
       "    }\n",
       "</style>\n",
       "<table border=\"1\" class=\"dataframe\">\n",
       "  <thead>\n",
       "    <tr>\n",
       "      <th></th>\n",
       "      <th></th>\n",
       "      <th>Loan_ID</th>\n",
       "    </tr>\n",
       "    <tr>\n",
       "      <th></th>\n",
       "      <th></th>\n",
       "      <th>count</th>\n",
       "    </tr>\n",
       "    <tr>\n",
       "      <th>Loan_status</th>\n",
       "      <th>Gender</th>\n",
       "      <th></th>\n",
       "    </tr>\n",
       "  </thead>\n",
       "  <tbody>\n",
       "    <tr>\n",
       "      <th rowspan=\"2\" valign=\"top\">COLLECTION</th>\n",
       "      <th>female</th>\n",
       "      <td>10</td>\n",
       "    </tr>\n",
       "    <tr>\n",
       "      <th>male</th>\n",
       "      <td>90</td>\n",
       "    </tr>\n",
       "    <tr>\n",
       "      <th rowspan=\"2\" valign=\"top\">COLLECTION_PAIDOFF</th>\n",
       "      <th>female</th>\n",
       "      <td>14</td>\n",
       "    </tr>\n",
       "    <tr>\n",
       "      <th>male</th>\n",
       "      <td>86</td>\n",
       "    </tr>\n",
       "    <tr>\n",
       "      <th rowspan=\"2\" valign=\"top\">PAIDOFF</th>\n",
       "      <th>female</th>\n",
       "      <td>53</td>\n",
       "    </tr>\n",
       "    <tr>\n",
       "      <th>male</th>\n",
       "      <td>247</td>\n",
       "    </tr>\n",
       "  </tbody>\n",
       "</table>\n",
       "</div>"
      ],
      "text/plain": [
       "                          Loan_ID\n",
       "                            count\n",
       "Loan_status        Gender        \n",
       "COLLECTION         female      10\n",
       "                   male        90\n",
       "COLLECTION_PAIDOFF female      14\n",
       "                   male        86\n",
       "PAIDOFF            female      53\n",
       "                   male       247"
      ]
     },
     "execution_count": 30,
     "metadata": {},
     "output_type": "execute_result"
    }
   ],
   "source": [
    "# Crosstabulation of gender and loan_status\n",
    "data[['Loan_status', 'Gender', 'Loan_ID']].groupby(['Loan_status', 'Gender']).agg(['count'])"
   ]
  },
  {
   "cell_type": "code",
   "execution_count": 32,
   "id": "3d35722b",
   "metadata": {
    "scrolled": true
   },
   "outputs": [
    {
     "data": {
      "image/png": "[encoded data removed]",
      "text/plain": [
       "<Figure size 864x360 with 2 Axes>"
      ]
     },
     "metadata": {
      "needs_background": "light"
     },
     "output_type": "display_data"
    }
   ],
   "source": [
    "# Visualization of crosstabulation of gender and loan_status by using side-by-side bar chart\n",
    "fig,(ax1,ax2) = plt.subplots(1,2,figsize=(12,5))\n",
    "sns.countplot(data['Gender'],ax=ax1)\n",
    "sns.countplot(data['Gender'],hue=data['Loan_status'],ax=ax2)\n",
    "for p in ax1.patches:   \n",
    "    height = p.get_height()\n",
    "    ax1.text(p.get_x()+p.get_width()/2., height + 0.1,height ,ha=\"center\",fontsize=10)\n",
    "for p in ax2.patches:   \n",
    "    height = p.get_height()\n",
    "    ax2.text(p.get_x()+p.get_width()/2., height + 0.1,height ,ha=\"center\",fontsize=10)\n",
    "plt.title('Crosstabulation of gender and loan_status')\n",
    "plt.show()"
   ]
  },
  {
   "cell_type": "markdown",
   "id": "cf26b529",
   "metadata": {},
   "source": [
    "Overall, it can be seen that the man had a lot of loans."
   ]
  },
  {
   "cell_type": "code",
   "execution_count": 33,
   "id": "420e1e03",
   "metadata": {},
   "outputs": [
    {
     "data": {
      "text/html": [
       "<div>\n",
       "<style scoped>\n",
       "    .dataframe tbody tr th:only-of-type {\n",
       "        vertical-align: middle;\n",
       "    }\n",
       "\n",
       "    .dataframe tbody tr th {\n",
       "        vertical-align: top;\n",
       "    }\n",
       "\n",
       "    .dataframe thead tr th {\n",
       "        text-align: left;\n",
       "    }\n",
       "\n",
       "    .dataframe thead tr:last-of-type th {\n",
       "        text-align: right;\n",
       "    }\n",
       "</style>\n",
       "<table border=\"1\" class=\"dataframe\">\n",
       "  <thead>\n",
       "    <tr>\n",
       "      <th></th>\n",
       "      <th></th>\n",
       "      <th>Loan_ID</th>\n",
       "    </tr>\n",
       "    <tr>\n",
       "      <th></th>\n",
       "      <th></th>\n",
       "      <th>count</th>\n",
       "    </tr>\n",
       "    <tr>\n",
       "      <th>Loan_status</th>\n",
       "      <th>Education</th>\n",
       "      <th></th>\n",
       "    </tr>\n",
       "  </thead>\n",
       "  <tbody>\n",
       "    <tr>\n",
       "      <th rowspan=\"4\" valign=\"top\">COLLECTION</th>\n",
       "      <th>Bechalor</th>\n",
       "      <td>11</td>\n",
       "    </tr>\n",
       "    <tr>\n",
       "      <th>High School or Below</th>\n",
       "      <td>49</td>\n",
       "    </tr>\n",
       "    <tr>\n",
       "      <th>Master or Above</th>\n",
       "      <td>1</td>\n",
       "    </tr>\n",
       "    <tr>\n",
       "      <th>college</th>\n",
       "      <td>39</td>\n",
       "    </tr>\n",
       "    <tr>\n",
       "      <th rowspan=\"3\" valign=\"top\">COLLECTION_PAIDOFF</th>\n",
       "      <th>Bechalor</th>\n",
       "      <td>15</td>\n",
       "    </tr>\n",
       "    <tr>\n",
       "      <th>High School or Below</th>\n",
       "      <td>37</td>\n",
       "    </tr>\n",
       "    <tr>\n",
       "      <th>college</th>\n",
       "      <td>48</td>\n",
       "    </tr>\n",
       "    <tr>\n",
       "      <th rowspan=\"4\" valign=\"top\">PAIDOFF</th>\n",
       "      <th>Bechalor</th>\n",
       "      <td>41</td>\n",
       "    </tr>\n",
       "    <tr>\n",
       "      <th>High School or Below</th>\n",
       "      <td>123</td>\n",
       "    </tr>\n",
       "    <tr>\n",
       "      <th>Master or Above</th>\n",
       "      <td>3</td>\n",
       "    </tr>\n",
       "    <tr>\n",
       "      <th>college</th>\n",
       "      <td>133</td>\n",
       "    </tr>\n",
       "  </tbody>\n",
       "</table>\n",
       "</div>"
      ],
      "text/plain": [
       "                                        Loan_ID\n",
       "                                          count\n",
       "Loan_status        Education                   \n",
       "COLLECTION         Bechalor                  11\n",
       "                   High School or Below      49\n",
       "                   Master or Above            1\n",
       "                   college                   39\n",
       "COLLECTION_PAIDOFF Bechalor                  15\n",
       "                   High School or Below      37\n",
       "                   college                   48\n",
       "PAIDOFF            Bechalor                  41\n",
       "                   High School or Below     123\n",
       "                   Master or Above            3\n",
       "                   college                  133"
      ]
     },
     "execution_count": 33,
     "metadata": {},
     "output_type": "execute_result"
    }
   ],
   "source": [
    "# Crosstabulation of education and loan_status\n",
    "data[['Loan_status', 'Education', 'Loan_ID']].groupby(['Loan_status', 'Education']).agg(['count'])"
   ]
  },
  {
   "cell_type": "code",
   "execution_count": 34,
   "id": "7fb4825a",
   "metadata": {},
   "outputs": [
    {
     "data": {
      "image/png": "[encoded data removed]",
      "text/plain": [
       "<Figure size 1080x360 with 2 Axes>"
      ]
     },
     "metadata": {
      "needs_background": "light"
     },
     "output_type": "display_data"
    }
   ],
   "source": [
    "# Visualization of crosstabulation of education and loan_status by using stacked bar chart\n",
    "fig,(ax1,ax2) = plt.subplots(1,2,figsize=(15,5))\n",
    "sns.countplot(data['Education'],ax=ax1)\n",
    "subdata = pd.crosstab(data.Education, data.Loan_status)\n",
    "subdata.plot(kind='bar', stacked=True, ax=ax2)\n",
    "ax1.tick_params(labelrotation=30)\n",
    "ax2.tick_params(labelrotation=30)\n",
    "plt.xlabel(u\"Education\")\n",
    "plt.ylabel(u\"count\")\n",
    "plt.title('Crosstabulation of education and loan_status')\n",
    "plt.show()"
   ]
  },
  {
   "cell_type": "code",
   "execution_count": null,
   "id": "b38b6bb3",
   "metadata": {},
   "outputs": [],
   "source": []
  }
 ],
 "metadata": {
  "kernelspec": {
   "display_name": "Python 3 (ipykernel)",
   "language": "python",
   "name": "python3"
  },
  "language_info": {
   "codemirror_mode": {
    "name": "ipython",
    "version": 3
   },
   "file_extension": ".py",
   "mimetype": "text/x-python",
   "name": "python",
   "nbconvert_exporter": "python",
   "pygments_lexer": "ipython3",
   "version": "3.9.7"
  },
  "varInspector": {
   "cols": {
    "lenName": 16,
    "lenType": 16,
    "lenVar": 40
   },
   "kernels_config": {
    "python": {
     "delete_cmd_postfix": "",
     "delete_cmd_prefix": "del ",
     "library": "var_list.py",
     "varRefreshCmd": "print(var_dic_list())"
    },
    "r": {
     "delete_cmd_postfix": ") ",
     "delete_cmd_prefix": "rm(",
     "library": "var_list.r",
     "varRefreshCmd": "cat(var_dic_list()) "
    }
   },
   "types_to_exclude": [
    "module",
    "function",
    "builtin_function_or_method",
    "instance",
    "_Feature"
   ],
   "window_display": false
  }
 },
 "nbformat": 4,
 "nbformat_minor": 5
}
