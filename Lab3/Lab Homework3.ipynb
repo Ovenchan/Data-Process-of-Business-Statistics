{
 "cells": [
  {
   "cell_type": "code",
   "execution_count": 6,
   "metadata": {},
   "outputs": [
    {
     "name": "stdout",
     "output_type": "stream",
     "text": [
      "<class 'pandas.core.frame.DataFrame'>\n",
      "RangeIndex: 6024 entries, 0 to 6023\n",
      "Data columns (total 8 columns):\n",
      " #   Column           Non-Null Count  Dtype \n",
      "---  ------           --------------  ----- \n",
      " 0   user_loc         6024 non-null   int64 \n",
      " 1   zip              6024 non-null   int64 \n",
      " 2   state            6024 non-null   object\n",
      " 3   high_county_T1   6024 non-null   int64 \n",
      " 4   treated_T1       6024 non-null   int64 \n",
      " 5   urban            6024 non-null   int64 \n",
      " 6   two_weeks_cases  6024 non-null   int64 \n",
      " 7   majority_gop     6024 non-null   int64 \n",
      "dtypes: int64(7), object(1)\n",
      "memory usage: 376.6+ KB\n"
     ]
    }
   ],
   "source": [
    "import numpy as np\n",
    "import pandas as pd\n",
    "import matplotlib.pyplot as plt\n",
    "import scipy.stats\n",
    "data = pd.read_csv('data&analysis.csv')\n",
    "data.info()"
   ]
  },
  {
   "cell_type": "code",
   "execution_count": 7,
   "metadata": {},
   "outputs": [
    {
     "data": {
      "text/html": [
       "<div>\n",
       "<style scoped>\n",
       "    .dataframe tbody tr th:only-of-type {\n",
       "        vertical-align: middle;\n",
       "    }\n",
       "\n",
       "    .dataframe tbody tr th {\n",
       "        vertical-align: top;\n",
       "    }\n",
       "\n",
       "    .dataframe thead th {\n",
       "        text-align: right;\n",
       "    }\n",
       "</style>\n",
       "<table border=\"1\" class=\"dataframe\">\n",
       "  <thead>\n",
       "    <tr style=\"text-align: right;\">\n",
       "      <th></th>\n",
       "      <th>df</th>\n",
       "      <th>sum_sq</th>\n",
       "      <th>mean_sq</th>\n",
       "      <th>F</th>\n",
       "      <th>PR(&gt;F)</th>\n",
       "    </tr>\n",
       "  </thead>\n",
       "  <tbody>\n",
       "    <tr>\n",
       "      <th>C(treated_T1)</th>\n",
       "      <td>1.0</td>\n",
       "      <td>3.256024e+04</td>\n",
       "      <td>3.256024e+04</td>\n",
       "      <td>0.863327</td>\n",
       "      <td>3.528866e-01</td>\n",
       "    </tr>\n",
       "    <tr>\n",
       "      <th>C(majority_gop)</th>\n",
       "      <td>1.0</td>\n",
       "      <td>5.851394e+06</td>\n",
       "      <td>5.851394e+06</td>\n",
       "      <td>155.148256</td>\n",
       "      <td>9.853964e-35</td>\n",
       "    </tr>\n",
       "    <tr>\n",
       "      <th>C(treated_T1):C(majority_gop)</th>\n",
       "      <td>1.0</td>\n",
       "      <td>1.248377e+04</td>\n",
       "      <td>1.248377e+04</td>\n",
       "      <td>0.331004</td>\n",
       "      <td>5.651130e-01</td>\n",
       "    </tr>\n",
       "    <tr>\n",
       "      <th>Residual</th>\n",
       "      <td>2906.0</td>\n",
       "      <td>1.095994e+08</td>\n",
       "      <td>3.771485e+04</td>\n",
       "      <td>NaN</td>\n",
       "      <td>NaN</td>\n",
       "    </tr>\n",
       "  </tbody>\n",
       "</table>\n",
       "</div>"
      ],
      "text/plain": [
       "                                   df        sum_sq       mean_sq           F  \\\n",
       "C(treated_T1)                     1.0  3.256024e+04  3.256024e+04    0.863327   \n",
       "C(majority_gop)                   1.0  5.851394e+06  5.851394e+06  155.148256   \n",
       "C(treated_T1):C(majority_gop)     1.0  1.248377e+04  1.248377e+04    0.331004   \n",
       "Residual                       2906.0  1.095994e+08  3.771485e+04         NaN   \n",
       "\n",
       "                                     PR(>F)  \n",
       "C(treated_T1)                  3.528866e-01  \n",
       "C(majority_gop)                9.853964e-35  \n",
       "C(treated_T1):C(majority_gop)  5.651130e-01  \n",
       "Residual                                NaN  "
      ]
     },
     "execution_count": 7,
     "metadata": {},
     "output_type": "execute_result"
    }
   ],
   "source": [
    "from statsmodels.formula.api import ols\n",
    "from statsmodels.stats.anova import anova_lm\n",
    "\n",
    "formula = 'two_weeks_cases ~ C(treated_T1) + C(majority_gop) + C(treated_T1) : C(majority_gop)'\n",
    "data_low = data.loc[data['high_county_T1']==0]\n",
    "model_low = ols(formula, data_low).fit()\n",
    "anova_table = anova_lm(model_low, type=2)\n",
    "anova_table"
   ]
  },
  {
   "cell_type": "code",
   "execution_count": 8,
   "metadata": {},
   "outputs": [
    {
     "data": {
      "text/html": [
       "<div>\n",
       "<style scoped>\n",
       "    .dataframe tbody tr th:only-of-type {\n",
       "        vertical-align: middle;\n",
       "    }\n",
       "\n",
       "    .dataframe tbody tr th {\n",
       "        vertical-align: top;\n",
       "    }\n",
       "\n",
       "    .dataframe thead th {\n",
       "        text-align: right;\n",
       "    }\n",
       "</style>\n",
       "<table border=\"1\" class=\"dataframe\">\n",
       "  <thead>\n",
       "    <tr style=\"text-align: right;\">\n",
       "      <th></th>\n",
       "      <th>df</th>\n",
       "      <th>sum_sq</th>\n",
       "      <th>mean_sq</th>\n",
       "      <th>F</th>\n",
       "      <th>PR(&gt;F)</th>\n",
       "    </tr>\n",
       "  </thead>\n",
       "  <tbody>\n",
       "    <tr>\n",
       "      <th>C(treated_T1)</th>\n",
       "      <td>1.0</td>\n",
       "      <td>9.399691e+04</td>\n",
       "      <td>9.399691e+04</td>\n",
       "      <td>3.356509</td>\n",
       "      <td>6.703541e-02</td>\n",
       "    </tr>\n",
       "    <tr>\n",
       "      <th>C(majority_gop)</th>\n",
       "      <td>1.0</td>\n",
       "      <td>5.413382e+06</td>\n",
       "      <td>5.413382e+06</td>\n",
       "      <td>193.304940</td>\n",
       "      <td>1.114009e-42</td>\n",
       "    </tr>\n",
       "    <tr>\n",
       "      <th>C(treated_T1):C(majority_gop)</th>\n",
       "      <td>1.0</td>\n",
       "      <td>7.853881e+04</td>\n",
       "      <td>7.853881e+04</td>\n",
       "      <td>2.804520</td>\n",
       "      <td>9.409950e-02</td>\n",
       "    </tr>\n",
       "    <tr>\n",
       "      <th>Residual</th>\n",
       "      <td>3110.0</td>\n",
       "      <td>8.709358e+07</td>\n",
       "      <td>2.800437e+04</td>\n",
       "      <td>NaN</td>\n",
       "      <td>NaN</td>\n",
       "    </tr>\n",
       "  </tbody>\n",
       "</table>\n",
       "</div>"
      ],
      "text/plain": [
       "                                   df        sum_sq       mean_sq           F  \\\n",
       "C(treated_T1)                     1.0  9.399691e+04  9.399691e+04    3.356509   \n",
       "C(majority_gop)                   1.0  5.413382e+06  5.413382e+06  193.304940   \n",
       "C(treated_T1):C(majority_gop)     1.0  7.853881e+04  7.853881e+04    2.804520   \n",
       "Residual                       3110.0  8.709358e+07  2.800437e+04         NaN   \n",
       "\n",
       "                                     PR(>F)  \n",
       "C(treated_T1)                  6.703541e-02  \n",
       "C(majority_gop)                1.114009e-42  \n",
       "C(treated_T1):C(majority_gop)  9.409950e-02  \n",
       "Residual                                NaN  "
      ]
     },
     "execution_count": 8,
     "metadata": {},
     "output_type": "execute_result"
    }
   ],
   "source": [
    "data_high = data.loc[data['high_county_T1']==1]\n",
    "model_high = ols(formula, data_high).fit()\n",
    "anova_table = anova_lm(model_high, type=2)\n",
    "anova_table"
   ]
  }
 ],
 "metadata": {
  "kernelspec": {
   "display_name": "Python 3.9.7 ('base')",
   "language": "python",
   "name": "python3"
  },
  "language_info": {
   "codemirror_mode": {
    "name": "ipython",
    "version": 3
   },
   "file_extension": ".py",
   "mimetype": "text/x-python",
   "name": "python",
   "nbconvert_exporter": "python",
   "pygments_lexer": "ipython3",
   "version": "3.9.7"
  },
  "orig_nbformat": 4,
  "vscode": {
   "interpreter": {
    "hash": "88279d2366fe020547cde40dd65aa0e3aa662a6ec1f3ca12d88834876c85e1a6"
   }
  }
 },
 "nbformat": 4,
 "nbformat_minor": 2
}
