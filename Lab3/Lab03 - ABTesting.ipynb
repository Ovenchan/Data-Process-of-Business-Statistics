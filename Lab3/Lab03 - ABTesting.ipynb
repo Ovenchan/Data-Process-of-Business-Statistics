{
 "cells": [
  {
   "cell_type": "markdown",
   "metadata": {},
   "source": [
    "# Introduction \n",
    "\n",
    "In this Lab, we are going to introduce the utilization of several statistical methods in AB testing (mainly about hypothesis testing and ANOVA). The dataset is provided by Breza E et al.[1]. Through this dataset, we want to figure out whether the public health messages sent by professionals can really influence people's behaviour during the COVID-19 crisis.\n",
    "\n",
    "#### Notes:\n",
    "The raw dataset provided by the article is very complex, and the data cleaning procedures are complicated. Thus, here we omit the preprocess procedures and provide you a dataset that have already been modified. If you are intersting in more informations, you can download the original dataset and corresponding R-code from the website given by the authors in the artile. \n",
    "\n",
    "#### Referrence:\n",
    "[1] Breza E, Stanford F C, Alsan M, et al. Effects of a large-scale social media advertising campaign on holiday travel and COVID-19\n",
    "infections: a cluster randomized controlled trial[J]. *Nature medicine*, 2021, 27(9): 1622-1628."
   ]
  },
  {
   "cell_type": "code",
   "execution_count": 1,
   "metadata": {},
   "outputs": [],
   "source": [
    "# import the necessary library\n",
    "import numpy as np\n",
    "import pandas as pd\n",
    "import matplotlib.pyplot as plt\n",
    "import scipy.stats as stats"
   ]
  },
  {
   "cell_type": "code",
   "execution_count": 2,
   "metadata": {},
   "outputs": [
    {
     "name": "stdout",
     "output_type": "stream",
     "text": [
      "<class 'pandas.core.frame.DataFrame'>\n",
      "RangeIndex: 6024 entries, 0 to 6023\n",
      "Data columns (total 8 columns):\n",
      " #   Column           Non-Null Count  Dtype \n",
      "---  ------           --------------  ----- \n",
      " 0   user_loc         6024 non-null   int64 \n",
      " 1   zip              6024 non-null   int64 \n",
      " 2   state            6024 non-null   object\n",
      " 3   high_county_T1   6024 non-null   int64 \n",
      " 4   treated_T1       6024 non-null   int64 \n",
      " 5   urban            6024 non-null   int64 \n",
      " 6   two_weeks_cases  6024 non-null   int64 \n",
      " 7   majority_gop     6024 non-null   int64 \n",
      "dtypes: int64(7), object(1)\n",
      "memory usage: 376.6+ KB\n"
     ]
    }
   ],
   "source": [
    "# load the dataset\n",
    "data = pd.read_csv('data&analysis.csv')\n",
    "data.info()"
   ]
  },
  {
   "cell_type": "code",
   "execution_count": 3,
   "metadata": {},
   "outputs": [
    {
     "data": {
      "text/html": [
       "<div>\n",
       "<style scoped>\n",
       "    .dataframe tbody tr th:only-of-type {\n",
       "        vertical-align: middle;\n",
       "    }\n",
       "\n",
       "    .dataframe tbody tr th {\n",
       "        vertical-align: top;\n",
       "    }\n",
       "\n",
       "    .dataframe thead th {\n",
       "        text-align: right;\n",
       "    }\n",
       "</style>\n",
       "<table border=\"1\" class=\"dataframe\">\n",
       "  <thead>\n",
       "    <tr style=\"text-align: right;\">\n",
       "      <th></th>\n",
       "      <th>user_loc</th>\n",
       "      <th>zip</th>\n",
       "      <th>state</th>\n",
       "      <th>high_county_T1</th>\n",
       "      <th>treated_T1</th>\n",
       "      <th>urban</th>\n",
       "      <th>two_weeks_cases</th>\n",
       "      <th>majority_gop</th>\n",
       "    </tr>\n",
       "  </thead>\n",
       "  <tbody>\n",
       "    <tr>\n",
       "      <th>0</th>\n",
       "      <td>4001</td>\n",
       "      <td>85925</td>\n",
       "      <td>AZ</td>\n",
       "      <td>0</td>\n",
       "      <td>0</td>\n",
       "      <td>1</td>\n",
       "      <td>0</td>\n",
       "      <td>0</td>\n",
       "    </tr>\n",
       "    <tr>\n",
       "      <th>1</th>\n",
       "      <td>4001</td>\n",
       "      <td>85924</td>\n",
       "      <td>AZ</td>\n",
       "      <td>0</td>\n",
       "      <td>0</td>\n",
       "      <td>0</td>\n",
       "      <td>21</td>\n",
       "      <td>0</td>\n",
       "    </tr>\n",
       "    <tr>\n",
       "      <th>2</th>\n",
       "      <td>4001</td>\n",
       "      <td>85936</td>\n",
       "      <td>AZ</td>\n",
       "      <td>0</td>\n",
       "      <td>0</td>\n",
       "      <td>1</td>\n",
       "      <td>14</td>\n",
       "      <td>0</td>\n",
       "    </tr>\n",
       "    <tr>\n",
       "      <th>3</th>\n",
       "      <td>4001</td>\n",
       "      <td>85940</td>\n",
       "      <td>AZ</td>\n",
       "      <td>0</td>\n",
       "      <td>0</td>\n",
       "      <td>0</td>\n",
       "      <td>0</td>\n",
       "      <td>0</td>\n",
       "    </tr>\n",
       "    <tr>\n",
       "      <th>4</th>\n",
       "      <td>4001</td>\n",
       "      <td>86505</td>\n",
       "      <td>AZ</td>\n",
       "      <td>0</td>\n",
       "      <td>0</td>\n",
       "      <td>0</td>\n",
       "      <td>11</td>\n",
       "      <td>0</td>\n",
       "    </tr>\n",
       "  </tbody>\n",
       "</table>\n",
       "</div>"
      ],
      "text/plain": [
       "   user_loc    zip state  high_county_T1  treated_T1  urban  two_weeks_cases  \\\n",
       "0      4001  85925    AZ               0           0      1                0   \n",
       "1      4001  85924    AZ               0           0      0               21   \n",
       "2      4001  85936    AZ               0           0      1               14   \n",
       "3      4001  85940    AZ               0           0      0                0   \n",
       "4      4001  86505    AZ               0           0      0               11   \n",
       "\n",
       "   majority_gop  \n",
       "0             0  \n",
       "1             0  \n",
       "2             0  \n",
       "3             0  \n",
       "4             0  "
      ]
     },
     "execution_count": 3,
     "metadata": {},
     "output_type": "execute_result"
    }
   ],
   "source": [
    "data.head()"
   ]
  },
  {
   "cell_type": "code",
   "execution_count": 4,
   "metadata": {},
   "outputs": [
    {
     "data": {
      "text/html": [
       "<div>\n",
       "<style scoped>\n",
       "    .dataframe tbody tr th:only-of-type {\n",
       "        vertical-align: middle;\n",
       "    }\n",
       "\n",
       "    .dataframe tbody tr th {\n",
       "        vertical-align: top;\n",
       "    }\n",
       "\n",
       "    .dataframe thead th {\n",
       "        text-align: right;\n",
       "    }\n",
       "</style>\n",
       "<table border=\"1\" class=\"dataframe\">\n",
       "  <thead>\n",
       "    <tr style=\"text-align: right;\">\n",
       "      <th></th>\n",
       "      <th>user_loc</th>\n",
       "      <th>zip</th>\n",
       "      <th>high_county_T1</th>\n",
       "      <th>treated_T1</th>\n",
       "      <th>urban</th>\n",
       "      <th>two_weeks_cases</th>\n",
       "      <th>majority_gop</th>\n",
       "    </tr>\n",
       "  </thead>\n",
       "  <tbody>\n",
       "    <tr>\n",
       "      <th>count</th>\n",
       "      <td>2910.000000</td>\n",
       "      <td>2910.000000</td>\n",
       "      <td>2910.0</td>\n",
       "      <td>2910.000000</td>\n",
       "      <td>2910.000000</td>\n",
       "      <td>2910.000000</td>\n",
       "      <td>2910.000000</td>\n",
       "    </tr>\n",
       "    <tr>\n",
       "      <th>mean</th>\n",
       "      <td>24848.143643</td>\n",
       "      <td>48236.434708</td>\n",
       "      <td>0.0</td>\n",
       "      <td>0.249828</td>\n",
       "      <td>0.555326</td>\n",
       "      <td>92.438832</td>\n",
       "      <td>0.674227</td>\n",
       "    </tr>\n",
       "    <tr>\n",
       "      <th>std</th>\n",
       "      <td>14723.517922</td>\n",
       "      <td>22235.212970</td>\n",
       "      <td>0.0</td>\n",
       "      <td>0.432988</td>\n",
       "      <td>0.497015</td>\n",
       "      <td>199.255925</td>\n",
       "      <td>0.468744</td>\n",
       "    </tr>\n",
       "    <tr>\n",
       "      <th>min</th>\n",
       "      <td>4001.000000</td>\n",
       "      <td>2802.000000</td>\n",
       "      <td>0.0</td>\n",
       "      <td>0.000000</td>\n",
       "      <td>0.000000</td>\n",
       "      <td>0.000000</td>\n",
       "      <td>0.000000</td>\n",
       "    </tr>\n",
       "    <tr>\n",
       "      <th>25%</th>\n",
       "      <td>12103.000000</td>\n",
       "      <td>27959.750000</td>\n",
       "      <td>0.0</td>\n",
       "      <td>0.000000</td>\n",
       "      <td>0.000000</td>\n",
       "      <td>4.000000</td>\n",
       "      <td>0.000000</td>\n",
       "    </tr>\n",
       "    <tr>\n",
       "      <th>50%</th>\n",
       "      <td>18179.000000</td>\n",
       "      <td>47849.000000</td>\n",
       "      <td>0.0</td>\n",
       "      <td>0.000000</td>\n",
       "      <td>1.000000</td>\n",
       "      <td>22.000000</td>\n",
       "      <td>1.000000</td>\n",
       "    </tr>\n",
       "    <tr>\n",
       "      <th>75%</th>\n",
       "      <td>37158.500000</td>\n",
       "      <td>62659.500000</td>\n",
       "      <td>0.0</td>\n",
       "      <td>0.000000</td>\n",
       "      <td>1.000000</td>\n",
       "      <td>93.000000</td>\n",
       "      <td>1.000000</td>\n",
       "    </tr>\n",
       "    <tr>\n",
       "      <th>max</th>\n",
       "      <td>51810.000000</td>\n",
       "      <td>97630.000000</td>\n",
       "      <td>0.0</td>\n",
       "      <td>1.000000</td>\n",
       "      <td>1.000000</td>\n",
       "      <td>2744.000000</td>\n",
       "      <td>1.000000</td>\n",
       "    </tr>\n",
       "  </tbody>\n",
       "</table>\n",
       "</div>"
      ],
      "text/plain": [
       "           user_loc           zip  high_county_T1   treated_T1        urban  \\\n",
       "count   2910.000000   2910.000000          2910.0  2910.000000  2910.000000   \n",
       "mean   24848.143643  48236.434708             0.0     0.249828     0.555326   \n",
       "std    14723.517922  22235.212970             0.0     0.432988     0.497015   \n",
       "min     4001.000000   2802.000000             0.0     0.000000     0.000000   \n",
       "25%    12103.000000  27959.750000             0.0     0.000000     0.000000   \n",
       "50%    18179.000000  47849.000000             0.0     0.000000     1.000000   \n",
       "75%    37158.500000  62659.500000             0.0     0.000000     1.000000   \n",
       "max    51810.000000  97630.000000             0.0     1.000000     1.000000   \n",
       "\n",
       "       two_weeks_cases  majority_gop  \n",
       "count      2910.000000   2910.000000  \n",
       "mean         92.438832      0.674227  \n",
       "std         199.255925      0.468744  \n",
       "min           0.000000      0.000000  \n",
       "25%           4.000000      0.000000  \n",
       "50%          22.000000      1.000000  \n",
       "75%          93.000000      1.000000  \n",
       "max        2744.000000      1.000000  "
      ]
     },
     "execution_count": 4,
     "metadata": {},
     "output_type": "execute_result"
    }
   ],
   "source": [
    "data.loc[data['high_county_T1']==0].describe()"
   ]
  },
  {
   "cell_type": "code",
   "execution_count": 5,
   "metadata": {},
   "outputs": [
    {
     "data": {
      "text/html": [
       "<div>\n",
       "<style scoped>\n",
       "    .dataframe tbody tr th:only-of-type {\n",
       "        vertical-align: middle;\n",
       "    }\n",
       "\n",
       "    .dataframe tbody tr th {\n",
       "        vertical-align: top;\n",
       "    }\n",
       "\n",
       "    .dataframe thead th {\n",
       "        text-align: right;\n",
       "    }\n",
       "</style>\n",
       "<table border=\"1\" class=\"dataframe\">\n",
       "  <thead>\n",
       "    <tr style=\"text-align: right;\">\n",
       "      <th></th>\n",
       "      <th>user_loc</th>\n",
       "      <th>zip</th>\n",
       "      <th>high_county_T1</th>\n",
       "      <th>treated_T1</th>\n",
       "      <th>urban</th>\n",
       "      <th>two_weeks_cases</th>\n",
       "      <th>majority_gop</th>\n",
       "    </tr>\n",
       "  </thead>\n",
       "  <tbody>\n",
       "    <tr>\n",
       "      <th>count</th>\n",
       "      <td>3114.000000</td>\n",
       "      <td>3114.000000</td>\n",
       "      <td>3114.0</td>\n",
       "      <td>3114.000000</td>\n",
       "      <td>3114.000000</td>\n",
       "      <td>3114.000000</td>\n",
       "      <td>3114.000000</td>\n",
       "    </tr>\n",
       "    <tr>\n",
       "      <th>mean</th>\n",
       "      <td>26146.884393</td>\n",
       "      <td>48330.790623</td>\n",
       "      <td>1.0</td>\n",
       "      <td>0.745022</td>\n",
       "      <td>0.578356</td>\n",
       "      <td>90.239563</td>\n",
       "      <td>0.656069</td>\n",
       "    </tr>\n",
       "    <tr>\n",
       "      <th>std</th>\n",
       "      <td>13818.149251</td>\n",
       "      <td>22095.737032</td>\n",
       "      <td>0.0</td>\n",
       "      <td>0.435919</td>\n",
       "      <td>0.493902</td>\n",
       "      <td>172.544960</td>\n",
       "      <td>0.475095</td>\n",
       "    </tr>\n",
       "    <tr>\n",
       "      <th>min</th>\n",
       "      <td>4005.000000</td>\n",
       "      <td>2804.000000</td>\n",
       "      <td>1.0</td>\n",
       "      <td>0.000000</td>\n",
       "      <td>0.000000</td>\n",
       "      <td>0.000000</td>\n",
       "      <td>0.000000</td>\n",
       "    </tr>\n",
       "    <tr>\n",
       "      <th>25%</th>\n",
       "      <td>17031.000000</td>\n",
       "      <td>28450.250000</td>\n",
       "      <td>1.0</td>\n",
       "      <td>0.000000</td>\n",
       "      <td>0.000000</td>\n",
       "      <td>5.000000</td>\n",
       "      <td>0.000000</td>\n",
       "    </tr>\n",
       "    <tr>\n",
       "      <th>50%</th>\n",
       "      <td>24031.000000</td>\n",
       "      <td>47959.500000</td>\n",
       "      <td>1.0</td>\n",
       "      <td>1.000000</td>\n",
       "      <td>1.000000</td>\n",
       "      <td>24.000000</td>\n",
       "      <td>1.000000</td>\n",
       "    </tr>\n",
       "    <tr>\n",
       "      <th>75%</th>\n",
       "      <td>39300.500000</td>\n",
       "      <td>62546.750000</td>\n",
       "      <td>1.0</td>\n",
       "      <td>1.000000</td>\n",
       "      <td>1.000000</td>\n",
       "      <td>98.000000</td>\n",
       "      <td>1.000000</td>\n",
       "    </tr>\n",
       "    <tr>\n",
       "      <th>max</th>\n",
       "      <td>51840.000000</td>\n",
       "      <td>97701.000000</td>\n",
       "      <td>1.0</td>\n",
       "      <td>1.000000</td>\n",
       "      <td>1.000000</td>\n",
       "      <td>2026.000000</td>\n",
       "      <td>1.000000</td>\n",
       "    </tr>\n",
       "  </tbody>\n",
       "</table>\n",
       "</div>"
      ],
      "text/plain": [
       "           user_loc           zip  high_county_T1   treated_T1        urban  \\\n",
       "count   3114.000000   3114.000000          3114.0  3114.000000  3114.000000   \n",
       "mean   26146.884393  48330.790623             1.0     0.745022     0.578356   \n",
       "std    13818.149251  22095.737032             0.0     0.435919     0.493902   \n",
       "min     4005.000000   2804.000000             1.0     0.000000     0.000000   \n",
       "25%    17031.000000  28450.250000             1.0     0.000000     0.000000   \n",
       "50%    24031.000000  47959.500000             1.0     1.000000     1.000000   \n",
       "75%    39300.500000  62546.750000             1.0     1.000000     1.000000   \n",
       "max    51840.000000  97701.000000             1.0     1.000000     1.000000   \n",
       "\n",
       "       two_weeks_cases  majority_gop  \n",
       "count      3114.000000   3114.000000  \n",
       "mean         90.239563      0.656069  \n",
       "std         172.544960      0.475095  \n",
       "min           0.000000      0.000000  \n",
       "25%           5.000000      0.000000  \n",
       "50%          24.000000      1.000000  \n",
       "75%          98.000000      1.000000  \n",
       "max        2026.000000      1.000000  "
      ]
     },
     "execution_count": 5,
     "metadata": {},
     "output_type": "execute_result"
    }
   ],
   "source": [
    "data.loc[data['high_county_T1']==1].describe()"
   ]
  },
  {
   "cell_type": "markdown",
   "metadata": {},
   "source": [
    "## 1. Hypothesis Testing\n",
    "\n",
    "In this section, we are going to deliver the upper-tailed test to study whether the population mean of treatment group is less than the control group. "
   ]
  },
  {
   "cell_type": "code",
   "execution_count": 6,
   "metadata": {},
   "outputs": [],
   "source": [
    "treatment = data.loc[data['treated_T1']==1]\n",
    "control = data.loc[data['treated_T1']==0]\n",
    "treatment_low = treatment.loc[treatment['high_county_T1']==0]\n",
    "control_low = control.loc[control['high_county_T1']==0]\n",
    "treatment_high = treatment.loc[treatment['high_county_T1']==1]\n",
    "control_high = control.loc[control['high_county_T1']==1]"
   ]
  },
  {
   "cell_type": "code",
   "execution_count": 7,
   "metadata": {},
   "outputs": [
    {
     "data": {
      "text/plain": [
       "count    3047.000000\n",
       "mean       89.700033\n",
       "std       177.337531\n",
       "min         0.000000\n",
       "25%         4.000000\n",
       "50%        22.000000\n",
       "75%       100.000000\n",
       "max      2744.000000\n",
       "Name: two_weeks_cases, dtype: float64"
      ]
     },
     "execution_count": 7,
     "metadata": {},
     "output_type": "execute_result"
    }
   ],
   "source": [
    "treatment['two_weeks_cases'].describe()\n",
    "# treatment_low['two_weeks_cases'].describe()\n",
    "# treatment_high['two_weeks_cases'].describe()"
   ]
  },
  {
   "cell_type": "code",
   "execution_count": 8,
   "metadata": {},
   "outputs": [
    {
     "data": {
      "text/plain": [
       "count    2977.000000\n",
       "mean       92.941552\n",
       "std       194.319811\n",
       "min         0.000000\n",
       "25%         4.000000\n",
       "50%        24.000000\n",
       "75%        94.000000\n",
       "max      2702.000000\n",
       "Name: two_weeks_cases, dtype: float64"
      ]
     },
     "execution_count": 8,
     "metadata": {},
     "output_type": "execute_result"
    }
   ],
   "source": [
    "control['two_weeks_cases'].describe()\n",
    "# control_low['two_weeks_cases'].describe()\n",
    "# control_high['two_weeks_cases'].describe()"
   ]
  },
  {
   "cell_type": "code",
   "execution_count": 12,
   "metadata": {},
   "outputs": [
    {
     "name": "stdout",
     "output_type": "stream",
     "text": [
      "t-statistic: -0.6758279130183211 p-value: 0.2495881006264814\n",
      "p > 0.05, we cannot reject H_0\n"
     ]
    }
   ],
   "source": [
    "\n",
    "'''\n",
    "H_0: the average COVID-19 infections in areas with intervention is greater or equal to that in the areas without intervention\n",
    "H_a: the average COVID-19 infections in areas with intervention is less than that in the areas without intervention\n",
    "'''\n",
    "#  Notice that the p-value output by function 'scipy.stats.ttest_ind' is two-tailed probability\n",
    "t, pval = stats.ttest_ind(treatment['two_weeks_cases'], control['two_weeks_cases'], equal_var=False)\n",
    "print('t-statistic:', t, 'p-value:', pval / 2)\n",
    "print('p > 0.05, we cannot reject H_0')"
   ]
  },
  {
   "cell_type": "code",
   "execution_count": 13,
   "metadata": {},
   "outputs": [
    {
     "name": "stdout",
     "output_type": "stream",
     "text": [
      "t-statistic: 0.8595339069226191 p-value: 0.19511308178658343\n",
      "p > 0.05, we cannot reject H_0\n"
     ]
    }
   ],
   "source": [
    "'''\n",
    "H_0: In low-intensity counties, the average COVID-19 infections in areas with intervention is greater or equal to that in the areas without intervention\n",
    "H_a: In low-intensity counties, the average COVID-19 infections in areas with intervention is less than that in the areas without intervention\n",
    "'''\n",
    "t_low, pval_low = stats.ttest_ind(treatment_low['two_weeks_cases'], control_low['two_weeks_cases'], equal_var=False)\n",
    "print('t-statistic:', t_low, 'p-value:', pval_low / 2)\n",
    "print('p > 0.05, we cannot reject H_0')"
   ]
  },
  {
   "cell_type": "code",
   "execution_count": 14,
   "metadata": {},
   "outputs": [
    {
     "name": "stdout",
     "output_type": "stream",
     "text": [
      "t-statistic: -1.628760833096124 p-value: 0.05181373951793404\n",
      "p > 0.05, we cannot reject H_0\n"
     ]
    },
    {
     "data": {
      "text/plain": [
       "\"But if we select the level of significance as 0.1, then we may conclude that p < 0.1 and we can reject H_0. That's to say, it's considered that the intervention decreases the COVID-19 infections in high-intensity counties.\""
      ]
     },
     "execution_count": 14,
     "metadata": {},
     "output_type": "execute_result"
    }
   ],
   "source": [
    "'''\n",
    "H_0: In high-intensity counties, the average COVID-19 infections in areas with intervention is greater or equal to that in the areas without intervention\n",
    "H_a: In high-intensity counties, the average COVID-19 infections in areas with intervention is less than that in the areas without intervention\n",
    "'''\n",
    "t_high, pval_high = stats.ttest_ind(treatment_high['two_weeks_cases'], control_high['two_weeks_cases'], equal_var=False)\n",
    "print('t-statistic:', t_high, 'p-value:', pval_high / 2)\n",
    "print('p > 0.05, we cannot reject H_0')\n",
    "\n",
    "'''But if we select the level of significance as 0.1, then we may conclude that p < 0.1 and we can reject H_0. That's to say, it's considered that the intervention decreases the COVID-19 infections in high-intensity counties.'''"
   ]
  },
  {
   "cell_type": "markdown",
   "metadata": {},
   "source": [
    "## 2. Two way ANOVA\n",
    "\n",
    "In this section, we are going to two-way ANOVA to study whether the intervention has the same impact on counties with different statuses. "
   ]
  },
  {
   "cell_type": "code",
   "execution_count": 16,
   "metadata": {},
   "outputs": [
    {
     "data": {
      "text/html": [
       "<div>\n",
       "<style scoped>\n",
       "    .dataframe tbody tr th:only-of-type {\n",
       "        vertical-align: middle;\n",
       "    }\n",
       "\n",
       "    .dataframe tbody tr th {\n",
       "        vertical-align: top;\n",
       "    }\n",
       "\n",
       "    .dataframe thead th {\n",
       "        text-align: right;\n",
       "    }\n",
       "</style>\n",
       "<table border=\"1\" class=\"dataframe\">\n",
       "  <thead>\n",
       "    <tr style=\"text-align: right;\">\n",
       "      <th></th>\n",
       "      <th>df</th>\n",
       "      <th>sum_sq</th>\n",
       "      <th>mean_sq</th>\n",
       "      <th>F</th>\n",
       "      <th>PR(&gt;F)</th>\n",
       "    </tr>\n",
       "  </thead>\n",
       "  <tbody>\n",
       "    <tr>\n",
       "      <th>C(treated_T1)</th>\n",
       "      <td>1.0</td>\n",
       "      <td>3.256024e+04</td>\n",
       "      <td>3.256024e+04</td>\n",
       "      <td>0.928022</td>\n",
       "      <td>3.354575e-01</td>\n",
       "    </tr>\n",
       "    <tr>\n",
       "      <th>C(urban)</th>\n",
       "      <td>1.0</td>\n",
       "      <td>1.345125e+07</td>\n",
       "      <td>1.345125e+07</td>\n",
       "      <td>383.383722</td>\n",
       "      <td>2.735060e-80</td>\n",
       "    </tr>\n",
       "    <tr>\n",
       "      <th>C(treated_T1):C(urban)</th>\n",
       "      <td>1.0</td>\n",
       "      <td>5.319260e+04</td>\n",
       "      <td>5.319260e+04</td>\n",
       "      <td>1.516080</td>\n",
       "      <td>2.183133e-01</td>\n",
       "    </tr>\n",
       "    <tr>\n",
       "      <th>Residual</th>\n",
       "      <td>2906.0</td>\n",
       "      <td>1.019588e+08</td>\n",
       "      <td>3.508562e+04</td>\n",
       "      <td>NaN</td>\n",
       "      <td>NaN</td>\n",
       "    </tr>\n",
       "  </tbody>\n",
       "</table>\n",
       "</div>"
      ],
      "text/plain": [
       "                            df        sum_sq       mean_sq           F  \\\n",
       "C(treated_T1)              1.0  3.256024e+04  3.256024e+04    0.928022   \n",
       "C(urban)                   1.0  1.345125e+07  1.345125e+07  383.383722   \n",
       "C(treated_T1):C(urban)     1.0  5.319260e+04  5.319260e+04    1.516080   \n",
       "Residual                2906.0  1.019588e+08  3.508562e+04         NaN   \n",
       "\n",
       "                              PR(>F)  \n",
       "C(treated_T1)           3.354575e-01  \n",
       "C(urban)                2.735060e-80  \n",
       "C(treated_T1):C(urban)  2.183133e-01  \n",
       "Residual                         NaN  "
      ]
     },
     "execution_count": 16,
     "metadata": {},
     "output_type": "execute_result"
    }
   ],
   "source": [
    "from statsmodels.formula.api import ols\n",
    "from statsmodels.stats.anova import anova_lm\n",
    "\n",
    "formula = 'two_weeks_cases ~ C(treated_T1) + C(urban) + C(treated_T1) : C(urban)'\n",
    "data_low = data.loc[data['high_county_T1']==0]\n",
    "model_low = ols(formula, data_low).fit()\n",
    "anova_table = anova_lm(model_low, type=2)\n",
    "anova_table"
   ]
  },
  {
   "cell_type": "code",
   "execution_count": 17,
   "metadata": {},
   "outputs": [
    {
     "data": {
      "text/html": [
       "<div>\n",
       "<style scoped>\n",
       "    .dataframe tbody tr th:only-of-type {\n",
       "        vertical-align: middle;\n",
       "    }\n",
       "\n",
       "    .dataframe tbody tr th {\n",
       "        vertical-align: top;\n",
       "    }\n",
       "\n",
       "    .dataframe thead th {\n",
       "        text-align: right;\n",
       "    }\n",
       "</style>\n",
       "<table border=\"1\" class=\"dataframe\">\n",
       "  <thead>\n",
       "    <tr style=\"text-align: right;\">\n",
       "      <th></th>\n",
       "      <th>df</th>\n",
       "      <th>sum_sq</th>\n",
       "      <th>mean_sq</th>\n",
       "      <th>F</th>\n",
       "      <th>PR(&gt;F)</th>\n",
       "    </tr>\n",
       "  </thead>\n",
       "  <tbody>\n",
       "    <tr>\n",
       "      <th>C(treated_T1)</th>\n",
       "      <td>1.0</td>\n",
       "      <td>9.399691e+04</td>\n",
       "      <td>9.399691e+04</td>\n",
       "      <td>3.646061</td>\n",
       "      <td>5.629390e-02</td>\n",
       "    </tr>\n",
       "    <tr>\n",
       "      <th>C(urban)</th>\n",
       "      <td>1.0</td>\n",
       "      <td>1.234389e+07</td>\n",
       "      <td>1.234389e+07</td>\n",
       "      <td>478.809044</td>\n",
       "      <td>7.702414e-99</td>\n",
       "    </tr>\n",
       "    <tr>\n",
       "      <th>C(treated_T1):C(urban)</th>\n",
       "      <td>1.0</td>\n",
       "      <td>6.457622e+04</td>\n",
       "      <td>6.457622e+04</td>\n",
       "      <td>2.504857</td>\n",
       "      <td>1.135974e-01</td>\n",
       "    </tr>\n",
       "    <tr>\n",
       "      <th>Residual</th>\n",
       "      <td>3110.0</td>\n",
       "      <td>8.017704e+07</td>\n",
       "      <td>2.578040e+04</td>\n",
       "      <td>NaN</td>\n",
       "      <td>NaN</td>\n",
       "    </tr>\n",
       "  </tbody>\n",
       "</table>\n",
       "</div>"
      ],
      "text/plain": [
       "                            df        sum_sq       mean_sq           F  \\\n",
       "C(treated_T1)              1.0  9.399691e+04  9.399691e+04    3.646061   \n",
       "C(urban)                   1.0  1.234389e+07  1.234389e+07  478.809044   \n",
       "C(treated_T1):C(urban)     1.0  6.457622e+04  6.457622e+04    2.504857   \n",
       "Residual                3110.0  8.017704e+07  2.578040e+04         NaN   \n",
       "\n",
       "                              PR(>F)  \n",
       "C(treated_T1)           5.629390e-02  \n",
       "C(urban)                7.702414e-99  \n",
       "C(treated_T1):C(urban)  1.135974e-01  \n",
       "Residual                         NaN  "
      ]
     },
     "execution_count": 17,
     "metadata": {},
     "output_type": "execute_result"
    }
   ],
   "source": [
    "data_high = data.loc[data['high_county_T1']==1]\n",
    "model_high = ols(formula, data_high).fit()\n",
    "anova_table = anova_lm(model_high, type=2)\n",
    "anova_table"
   ]
  }
 ],
 "metadata": {
  "kernelspec": {
   "display_name": "Python 3.10.1 64-bit",
   "language": "python",
   "name": "python3"
  },
  "language_info": {
   "codemirror_mode": {
    "name": "ipython",
    "version": 3
   },
   "file_extension": ".py",
   "mimetype": "text/x-python",
   "name": "python",
   "nbconvert_exporter": "python",
   "pygments_lexer": "ipython3",
   "version": "3.10.1"
  },
  "vscode": {
   "interpreter": {
    "hash": "2469a70536e4d2335a2ea8907942d0699c37342a371ac185bdb5b0aa6f073890"
   }
  }
 },
 "nbformat": 4,
 "nbformat_minor": 4
}
